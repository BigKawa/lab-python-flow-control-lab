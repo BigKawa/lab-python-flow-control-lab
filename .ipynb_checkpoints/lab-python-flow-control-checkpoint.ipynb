{
 "cells": [
  {
   "cell_type": "markdown",
   "id": "d3bfc191-8885-42ee-b0a0-bbab867c6f9f",
   "metadata": {
    "tags": []
   },
   "source": [
    "# Lab | Flow Control"
   ]
  },
  {
   "cell_type": "markdown",
   "id": "3851fcd1-cf98-4653-9c89-e003b7ec9400",
   "metadata": {},
   "source": [
    "## Exercise: Managing Customer Orders Optimized\n",
    "\n",
    "In the last lab, you were starting an online store that sells various products. To ensure smooth operations, you developed a program that manages customer orders and inventory.\n",
    "\n",
    "You did so without using flow control. Let's go a step further and improve this code.\n",
    "\n",
    "Follow the steps below to complete the exercise:\n",
    "\n",
    "1. Look at your code from the lab data structures, and improve repeated code with loops.\n",
    "\n",
    "2. Instead of asking the user to input the name of three products that a customer wants to order, do the following:\n",
    "    \n",
    "    a. Prompt the user to enter the name of a product that a customer wants to order.\n",
    "    \n",
    "    b. Add the product name to the \"customer_orders\" set.\n",
    "    \n",
    "    c. Ask the user if they want to add another product (yes/no).\n",
    "    \n",
    "    d. Continue the loop until the user does not want to add another product.\n",
    "\n",
    "3. Instead of updating the inventory by subtracting 1 from the quantity of each product, only do it for  the products that were ordered (those in \"customer_orders\")."
   ]
  },
  {
   "cell_type": "code",
   "execution_count": 1,
   "id": "11bf37b9-252e-441e-8309-7235b99cc01f",
   "metadata": {},
   "outputs": [],
   "source": [
    "products = [\"t-shirt\", \"mug\", \"hat\", \"book\", \"keychain\"]\n",
    "\n",
    "inventory = {}\n",
    "\n"
   ]
  },
  {
   "cell_type": "code",
   "execution_count": 3,
   "id": "79573cff-0140-4737-bc59-2a22784b3f79",
   "metadata": {},
   "outputs": [
    {
     "name": "stdin",
     "output_type": "stream",
     "text": [
      "What is the quantity of t-shirt 5\n",
      "What is the quantity of mug 5\n",
      "What is the quantity of hat 5\n",
      "What is the quantity of book 5\n",
      "What is the quantity of keychain 5\n"
     ]
    }
   ],
   "source": [
    "for i in range(len(products)): #  \n",
    "    user_input = int(input(F\"What is the quantity of {products[i]}\"))\n",
    "    inventory[products[i]] = user_input"
   ]
  },
  {
   "cell_type": "code",
   "execution_count": 20,
   "id": "e863b5fc-1372-435a-b3b6-107977f3012b",
   "metadata": {},
   "outputs": [],
   "source": [
    "customer_orders  = set() #  creates an Empty Set\n",
    "\n",
    "# print(type(customer_orders)) # Empty Customer Set"
   ]
  },
  {
   "cell_type": "code",
   "execution_count": 22,
   "id": "4fcbc3b1-9930-4392-a49e-d69061effb82",
   "metadata": {},
   "outputs": [
    {
     "name": "stdin",
     "output_type": "stream",
     "text": [
      "What do you want to order something from ['t-shirt', 'mug', 'hat', 'book', 'keychain'] ? mug\n",
      "Do you still want to order? Yes/No yes\n",
      "What do you want to order something from ['t-shirt', 'mug', 'hat', 'book', 'keychain'] ? hat\n",
      "Do you still want to order? Yes/No no\n"
     ]
    }
   ],
   "source": [
    "\"\"\" Muss geändert werden \"\"\"\n",
    "still_ordering = True\n",
    "\n",
    "while still_ordering:\n",
    "    order = input(F\"What do you want to order something from {products} ?\").lower().strip()\n",
    "    customer_orders.add(order)\n",
    "    still_order_input = input(F\"Do you still want to order? Yes/No\").lower().strip()\n",
    "    if still_order_input == \"no\":\n",
    "        still_ordering = False\n",
    "\n"
   ]
  },
  {
   "cell_type": "markdown",
   "id": "26091145-db32-46b1-b508-573a508c7fb6",
   "metadata": {},
   "source": [
    "print(customer_orders)"
   ]
  },
  {
   "cell_type": "code",
   "execution_count": 26,
   "id": "b5f27a9f-80b5-4c1b-9ba4-394a27c1b0ca",
   "metadata": {},
   "outputs": [
    {
     "name": "stdout",
     "output_type": "stream",
     "text": [
      "8.0 %\n"
     ]
    }
   ],
   "source": [
    "Total_products = len(customer_orders)\n",
    "\n",
    "\n",
    "Total_quantity = 0\n",
    "for key in inventory:\n",
    "    #  print(inventory[x]) #  Test\n",
    "    Total_quantity += inventory[key]\n",
    "# Total_Quantity = sum(inventory.values()) # \n",
    "\n",
    " \n",
    "\n",
    "\n",
    "\n",
    "Total_percentage = Total_products / Total_quantity*100\n",
    "#  print(Total_quantity)\n",
    "print(F\"{Total_percentage} %\")\n",
    "\n",
    "order_status = (Total_products, Total_percentage) # Order Status - Tuple\n",
    "# total_percentage = Total_products/len()\n",
    "\n",
    "\n",
    "\n"
   ]
  },
  {
   "cell_type": "code",
   "execution_count": 28,
   "id": "bafb1574-aa87-476d-bd0e-f27800f0390f",
   "metadata": {},
   "outputs": [
    {
     "name": "stdout",
     "output_type": "stream",
     "text": [
      " Order Statistics : \n",
      " Total Products Ordered : 2\n",
      " Percentage of Products Ordered : 8.0 %\n"
     ]
    }
   ],
   "source": [
    "print(F\" Order Statistics : \")\n",
    "print(F\" Total Products Ordered : {order_status[0]}\")\n",
    "print(F\" Percentage of Products Ordered : {order_status[1]} %\")"
   ]
  },
  {
   "cell_type": "code",
   "execution_count": 32,
   "id": "983eac16-43f8-42ce-88a0-f13c0083de10",
   "metadata": {},
   "outputs": [
    {
     "data": {
      "text/plain": [
       "{'hat', 'mug'}"
      ]
     },
     "execution_count": 32,
     "metadata": {},
     "output_type": "execute_result"
    }
   ],
   "source": [
    "customer_orders"
   ]
  },
  {
   "cell_type": "code",
   "execution_count": 34,
   "id": "e97fcf71-36c9-466e-b8fe-e19aad8430d7",
   "metadata": {},
   "outputs": [
    {
     "data": {
      "text/plain": [
       "{'t-shirt': 5, 'mug': 5, 'hat': 5, 'book': 5, 'keychain': 5}"
      ]
     },
     "execution_count": 34,
     "metadata": {},
     "output_type": "execute_result"
    }
   ],
   "source": [
    "inventory"
   ]
  },
  {
   "cell_type": "code",
   "execution_count": 41,
   "id": "77675a34-fcfe-4373-b1f1-460139893f85",
   "metadata": {},
   "outputs": [],
   "source": [
    "for x in customer_orders:\n",
    "    if x in inventory:\n",
    "        inventory[x] -= 1\n",
    "\n",
    "\n",
    "\n"
   ]
  },
  {
   "cell_type": "code",
   "execution_count": 43,
   "id": "124b671b-1d04-4596-94fe-942059c11cf3",
   "metadata": {},
   "outputs": [
    {
     "data": {
      "text/plain": [
       "{'t-shirt': 4, 'mug': 2, 'hat': 2, 'book': 4, 'keychain': 4}"
      ]
     },
     "execution_count": 43,
     "metadata": {},
     "output_type": "execute_result"
    }
   ],
   "source": [
    "inventory"
   ]
  },
  {
   "cell_type": "code",
   "execution_count": null,
   "id": "26471ba2-76a3-474b-b45d-4ca23e16afb6",
   "metadata": {},
   "outputs": [],
   "source": []
  }
 ],
 "metadata": {
  "kernelspec": {
   "display_name": "Python 3 (ipykernel)",
   "language": "python",
   "name": "python3"
  },
  "language_info": {
   "codemirror_mode": {
    "name": "ipython",
    "version": 3
   },
   "file_extension": ".py",
   "mimetype": "text/x-python",
   "name": "python",
   "nbconvert_exporter": "python",
   "pygments_lexer": "ipython3",
   "version": "3.12.4"
  }
 },
 "nbformat": 4,
 "nbformat_minor": 5
}
